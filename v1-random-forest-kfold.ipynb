{
 "cells": [
  {
   "cell_type": "markdown",
   "id": "b7bb3c4e-45b6-4c61-a848-b6b599dc6e14",
   "metadata": {},
   "source": [
    "# Dependencies"
   ]
  },
  {
   "cell_type": "code",
   "execution_count": 1,
   "id": "03d91035-2561-418b-aac5-2a1b16819d0e",
   "metadata": {},
   "outputs": [],
   "source": [
    "import os\n",
    "is_kaggle = os.environ.get('KAGGLE_KERNEL_RUN_TYPE', '')\n",
    "if not is_kaggle:\n",
    "    !pip install -q scikit-learn pandas numpy nltk matplotlib seaborn\n",
    "    !pip install -q kaggle"
   ]
  },
  {
   "cell_type": "code",
   "execution_count": 2,
   "id": "dd919c88-45f9-452d-a5d0-a89cb35eff1d",
   "metadata": {},
   "outputs": [],
   "source": [
    "from pathlib import Path\n",
    "import pandas as pd\n",
    "import numpy as np\n",
    "import random\n",
    "\n",
    "pd.plotting.register_matplotlib_converters()\n",
    "import matplotlib.pyplot as plt\n",
    "%matplotlib inline\n",
    "import seaborn as sns"
   ]
  },
  {
   "cell_type": "markdown",
   "id": "014dc3a9-4206-477e-aba7-9c35ec50786a",
   "metadata": {},
   "source": [
    "# Prepare Data"
   ]
  },
  {
   "cell_type": "markdown",
   "id": "47641005-7b3b-4fcb-8f37-f75524590c43",
   "metadata": {},
   "source": [
    "Download the data if not in kaggle"
   ]
  },
  {
   "cell_type": "code",
   "execution_count": 3,
   "id": "57a29203-8af1-48ac-99f8-f13c75073604",
   "metadata": {},
   "outputs": [
    {
     "name": "stdout",
     "output_type": "stream",
     "text": [
      "commonlit-evaluate-student-summaries.zip: Skipping, found more recently modified local copy (use --force to force download)\n",
      "Archive:  /home/krm/.kaggle/input/commonlit-evaluate-student-summaries.zip\n",
      "  inflating: /home/krm/.kaggle/input/commonlit-evaluate-student-summaries/prompts_test.csv  \n",
      "  inflating: /home/krm/.kaggle/input/commonlit-evaluate-student-summaries/prompts_train.csv  \n",
      "  inflating: /home/krm/.kaggle/input/commonlit-evaluate-student-summaries/sample_submission.csv  \n",
      "  inflating: /home/krm/.kaggle/input/commonlit-evaluate-student-summaries/summaries_test.csv  \n",
      "  inflating: /home/krm/.kaggle/input/commonlit-evaluate-student-summaries/summaries_train.csv  \n"
     ]
    }
   ],
   "source": [
    "competition_name = \"commonlit-evaluate-student-summaries\"\n",
    "\n",
    "if is_kaggle:\n",
    "    input_path = Path(f\"/kaggle/input/{competition_name}\")\n",
    "else:\n",
    "    input_path = Path.home() / \".kaggle\" / \"input\" / competition_name\n",
    "    !kaggle competitions download -p {input_path.parent} {competition_name}\n",
    "    !unzip -o {input_path}.zip -d {input_path}"
   ]
  },
  {
   "cell_type": "markdown",
   "id": "d46a6cfb-01d9-4607-9db6-231b82979800",
   "metadata": {},
   "source": [
    "Load the csv files."
   ]
  },
  {
   "cell_type": "code",
   "execution_count": 4,
   "id": "82293e7f-1b53-4fa3-a6df-7b9fb772b044",
   "metadata": {},
   "outputs": [],
   "source": [
    "summ_train_df = pd.read_csv(input_path / \"summaries_train.csv\")\n",
    "summ_test_df = pd.read_csv(input_path / \"summaries_test.csv\")\n",
    "prompts_train_df = pd.read_csv(input_path / \"prompts_train.csv\")\n",
    "prompts_test_df = pd.read_csv(input_path / \"prompts_test.csv\")"
   ]
  },
  {
   "cell_type": "markdown",
   "id": "c50537a7-e374-4c8e-94f1-892bbe253db5",
   "metadata": {},
   "source": [
    "Merge the summaries and prompts dataframes for both training and testing"
   ]
  },
  {
   "cell_type": "code",
   "execution_count": 5,
   "id": "2c315afd-0b7c-41a7-b103-47d1c6958422",
   "metadata": {},
   "outputs": [
    {
     "data": {
      "text/html": [
       "<div>\n",
       "<style scoped>\n",
       "    .dataframe tbody tr th:only-of-type {\n",
       "        vertical-align: middle;\n",
       "    }\n",
       "\n",
       "    .dataframe tbody tr th {\n",
       "        vertical-align: top;\n",
       "    }\n",
       "\n",
       "    .dataframe thead th {\n",
       "        text-align: right;\n",
       "    }\n",
       "</style>\n",
       "<table border=\"1\" class=\"dataframe\">\n",
       "  <thead>\n",
       "    <tr style=\"text-align: right;\">\n",
       "      <th></th>\n",
       "      <th>student_id</th>\n",
       "      <th>prompt_id</th>\n",
       "      <th>text</th>\n",
       "      <th>content</th>\n",
       "      <th>wording</th>\n",
       "      <th>prompt_question</th>\n",
       "      <th>prompt_title</th>\n",
       "      <th>prompt_text</th>\n",
       "    </tr>\n",
       "  </thead>\n",
       "  <tbody>\n",
       "    <tr>\n",
       "      <th>0</th>\n",
       "      <td>000e8c3c7ddb</td>\n",
       "      <td>814d6b</td>\n",
       "      <td>The third wave was an experimentto see how peo...</td>\n",
       "      <td>0.205683</td>\n",
       "      <td>0.380538</td>\n",
       "      <td>Summarize how the Third Wave developed over su...</td>\n",
       "      <td>The Third Wave</td>\n",
       "      <td>Background \\r\\nThe Third Wave experiment took ...</td>\n",
       "    </tr>\n",
       "    <tr>\n",
       "      <th>1</th>\n",
       "      <td>0070c9e7af47</td>\n",
       "      <td>814d6b</td>\n",
       "      <td>The Third Wave developed  rapidly because the ...</td>\n",
       "      <td>3.272894</td>\n",
       "      <td>3.219757</td>\n",
       "      <td>Summarize how the Third Wave developed over su...</td>\n",
       "      <td>The Third Wave</td>\n",
       "      <td>Background \\r\\nThe Third Wave experiment took ...</td>\n",
       "    </tr>\n",
       "    <tr>\n",
       "      <th>2</th>\n",
       "      <td>0095993991fe</td>\n",
       "      <td>814d6b</td>\n",
       "      <td>The third wave only started as an experiment w...</td>\n",
       "      <td>0.205683</td>\n",
       "      <td>0.380538</td>\n",
       "      <td>Summarize how the Third Wave developed over su...</td>\n",
       "      <td>The Third Wave</td>\n",
       "      <td>Background \\r\\nThe Third Wave experiment took ...</td>\n",
       "    </tr>\n",
       "    <tr>\n",
       "      <th>3</th>\n",
       "      <td>00c20c6ddd23</td>\n",
       "      <td>814d6b</td>\n",
       "      <td>The experimen was orginally about how even whe...</td>\n",
       "      <td>0.567975</td>\n",
       "      <td>0.969062</td>\n",
       "      <td>Summarize how the Third Wave developed over su...</td>\n",
       "      <td>The Third Wave</td>\n",
       "      <td>Background \\r\\nThe Third Wave experiment took ...</td>\n",
       "    </tr>\n",
       "    <tr>\n",
       "      <th>4</th>\n",
       "      <td>00d40ad10dc9</td>\n",
       "      <td>814d6b</td>\n",
       "      <td>The third wave developed so quickly due to the...</td>\n",
       "      <td>-0.910596</td>\n",
       "      <td>-0.081769</td>\n",
       "      <td>Summarize how the Third Wave developed over su...</td>\n",
       "      <td>The Third Wave</td>\n",
       "      <td>Background \\r\\nThe Third Wave experiment took ...</td>\n",
       "    </tr>\n",
       "    <tr>\n",
       "      <th>...</th>\n",
       "      <td>...</td>\n",
       "      <td>...</td>\n",
       "      <td>...</td>\n",
       "      <td>...</td>\n",
       "      <td>...</td>\n",
       "      <td>...</td>\n",
       "      <td>...</td>\n",
       "      <td>...</td>\n",
       "    </tr>\n",
       "    <tr>\n",
       "      <th>7160</th>\n",
       "      <td>fef3e85236e5</td>\n",
       "      <td>39c16e</td>\n",
       "      <td>It has to be made on a complex storyline, with...</td>\n",
       "      <td>-0.981265</td>\n",
       "      <td>-1.548900</td>\n",
       "      <td>Summarize at least 3 elements of an ideal trag...</td>\n",
       "      <td>On Tragedy</td>\n",
       "      <td>Chapter 13 \\r\\nAs the sequel to what has alrea...</td>\n",
       "    </tr>\n",
       "    <tr>\n",
       "      <th>7161</th>\n",
       "      <td>ff0f65eecf02</td>\n",
       "      <td>39c16e</td>\n",
       "      <td>Aristotle descirbes an ideal tradgedy as being...</td>\n",
       "      <td>-0.511077</td>\n",
       "      <td>-1.589115</td>\n",
       "      <td>Summarize at least 3 elements of an ideal trag...</td>\n",
       "      <td>On Tragedy</td>\n",
       "      <td>Chapter 13 \\r\\nAs the sequel to what has alrea...</td>\n",
       "    </tr>\n",
       "    <tr>\n",
       "      <th>7162</th>\n",
       "      <td>ff186473ea0a</td>\n",
       "      <td>39c16e</td>\n",
       "      <td>A tragedy should have a complex plan not a sim...</td>\n",
       "      <td>-0.834946</td>\n",
       "      <td>-0.593749</td>\n",
       "      <td>Summarize at least 3 elements of an ideal trag...</td>\n",
       "      <td>On Tragedy</td>\n",
       "      <td>Chapter 13 \\r\\nAs the sequel to what has alrea...</td>\n",
       "    </tr>\n",
       "    <tr>\n",
       "      <th>7163</th>\n",
       "      <td>ff5e9e6068da</td>\n",
       "      <td>39c16e</td>\n",
       "      <td>Aristotle believed that the ideal tradegy shou...</td>\n",
       "      <td>-0.157460</td>\n",
       "      <td>-0.165811</td>\n",
       "      <td>Summarize at least 3 elements of an ideal trag...</td>\n",
       "      <td>On Tragedy</td>\n",
       "      <td>Chapter 13 \\r\\nAs the sequel to what has alrea...</td>\n",
       "    </tr>\n",
       "    <tr>\n",
       "      <th>7164</th>\n",
       "      <td>ffe4a98093b2</td>\n",
       "      <td>39c16e</td>\n",
       "      <td>An ideal tragety has three elements that make ...</td>\n",
       "      <td>-0.393310</td>\n",
       "      <td>0.627128</td>\n",
       "      <td>Summarize at least 3 elements of an ideal trag...</td>\n",
       "      <td>On Tragedy</td>\n",
       "      <td>Chapter 13 \\r\\nAs the sequel to what has alrea...</td>\n",
       "    </tr>\n",
       "  </tbody>\n",
       "</table>\n",
       "<p>7165 rows × 8 columns</p>\n",
       "</div>"
      ],
      "text/plain": [
       "        student_id prompt_id  \\\n",
       "0     000e8c3c7ddb    814d6b   \n",
       "1     0070c9e7af47    814d6b   \n",
       "2     0095993991fe    814d6b   \n",
       "3     00c20c6ddd23    814d6b   \n",
       "4     00d40ad10dc9    814d6b   \n",
       "...            ...       ...   \n",
       "7160  fef3e85236e5    39c16e   \n",
       "7161  ff0f65eecf02    39c16e   \n",
       "7162  ff186473ea0a    39c16e   \n",
       "7163  ff5e9e6068da    39c16e   \n",
       "7164  ffe4a98093b2    39c16e   \n",
       "\n",
       "                                                   text   content   wording  \\\n",
       "0     The third wave was an experimentto see how peo...  0.205683  0.380538   \n",
       "1     The Third Wave developed  rapidly because the ...  3.272894  3.219757   \n",
       "2     The third wave only started as an experiment w...  0.205683  0.380538   \n",
       "3     The experimen was orginally about how even whe...  0.567975  0.969062   \n",
       "4     The third wave developed so quickly due to the... -0.910596 -0.081769   \n",
       "...                                                 ...       ...       ...   \n",
       "7160  It has to be made on a complex storyline, with... -0.981265 -1.548900   \n",
       "7161  Aristotle descirbes an ideal tradgedy as being... -0.511077 -1.589115   \n",
       "7162  A tragedy should have a complex plan not a sim... -0.834946 -0.593749   \n",
       "7163  Aristotle believed that the ideal tradegy shou... -0.157460 -0.165811   \n",
       "7164  An ideal tragety has three elements that make ... -0.393310  0.627128   \n",
       "\n",
       "                                        prompt_question    prompt_title  \\\n",
       "0     Summarize how the Third Wave developed over su...  The Third Wave   \n",
       "1     Summarize how the Third Wave developed over su...  The Third Wave   \n",
       "2     Summarize how the Third Wave developed over su...  The Third Wave   \n",
       "3     Summarize how the Third Wave developed over su...  The Third Wave   \n",
       "4     Summarize how the Third Wave developed over su...  The Third Wave   \n",
       "...                                                 ...             ...   \n",
       "7160  Summarize at least 3 elements of an ideal trag...      On Tragedy   \n",
       "7161  Summarize at least 3 elements of an ideal trag...      On Tragedy   \n",
       "7162  Summarize at least 3 elements of an ideal trag...      On Tragedy   \n",
       "7163  Summarize at least 3 elements of an ideal trag...      On Tragedy   \n",
       "7164  Summarize at least 3 elements of an ideal trag...      On Tragedy   \n",
       "\n",
       "                                            prompt_text  \n",
       "0     Background \\r\\nThe Third Wave experiment took ...  \n",
       "1     Background \\r\\nThe Third Wave experiment took ...  \n",
       "2     Background \\r\\nThe Third Wave experiment took ...  \n",
       "3     Background \\r\\nThe Third Wave experiment took ...  \n",
       "4     Background \\r\\nThe Third Wave experiment took ...  \n",
       "...                                                 ...  \n",
       "7160  Chapter 13 \\r\\nAs the sequel to what has alrea...  \n",
       "7161  Chapter 13 \\r\\nAs the sequel to what has alrea...  \n",
       "7162  Chapter 13 \\r\\nAs the sequel to what has alrea...  \n",
       "7163  Chapter 13 \\r\\nAs the sequel to what has alrea...  \n",
       "7164  Chapter 13 \\r\\nAs the sequel to what has alrea...  \n",
       "\n",
       "[7165 rows x 8 columns]"
      ]
     },
     "execution_count": 5,
     "metadata": {},
     "output_type": "execute_result"
    }
   ],
   "source": [
    "train_df = pd.merge(summ_train_df, prompts_train_df, on=\"prompt_id\")\n",
    "test_df = pd.merge(summ_test_df, prompts_test_df, on=\"prompt_id\")\n",
    "train_df"
   ]
  },
  {
   "cell_type": "markdown",
   "id": "ebe40f57-ba40-46ad-9ac7-0175a04a78f6",
   "metadata": {},
   "source": [
    "## Data Analysis"
   ]
  },
  {
   "cell_type": "code",
   "execution_count": 6,
   "id": "0001053d-9265-48c6-a1c0-dd7e6ee00465",
   "metadata": {},
   "outputs": [
    {
     "name": "stdout",
     "output_type": "stream",
     "text": [
      "<class 'pandas.core.frame.DataFrame'>\n",
      "RangeIndex: 7165 entries, 0 to 7164\n",
      "Data columns (total 8 columns):\n",
      " #   Column           Non-Null Count  Dtype  \n",
      "---  ------           --------------  -----  \n",
      " 0   student_id       7165 non-null   object \n",
      " 1   prompt_id        7165 non-null   object \n",
      " 2   text             7165 non-null   object \n",
      " 3   content          7165 non-null   float64\n",
      " 4   wording          7165 non-null   float64\n",
      " 5   prompt_question  7165 non-null   object \n",
      " 6   prompt_title     7165 non-null   object \n",
      " 7   prompt_text      7165 non-null   object \n",
      "dtypes: float64(2), object(6)\n",
      "memory usage: 447.9+ KB\n"
     ]
    }
   ],
   "source": [
    "train_df.info()"
   ]
  },
  {
   "cell_type": "code",
   "execution_count": 7,
   "id": "cf0cfe5b-5775-4ece-ab0c-34ad2d60565a",
   "metadata": {},
   "outputs": [
    {
     "data": {
      "text/html": [
       "<div>\n",
       "<style scoped>\n",
       "    .dataframe tbody tr th:only-of-type {\n",
       "        vertical-align: middle;\n",
       "    }\n",
       "\n",
       "    .dataframe tbody tr th {\n",
       "        vertical-align: top;\n",
       "    }\n",
       "\n",
       "    .dataframe thead th {\n",
       "        text-align: right;\n",
       "    }\n",
       "</style>\n",
       "<table border=\"1\" class=\"dataframe\">\n",
       "  <thead>\n",
       "    <tr style=\"text-align: right;\">\n",
       "      <th></th>\n",
       "      <th>content</th>\n",
       "      <th>wording</th>\n",
       "    </tr>\n",
       "  </thead>\n",
       "  <tbody>\n",
       "    <tr>\n",
       "      <th>count</th>\n",
       "      <td>7165.000000</td>\n",
       "      <td>7165.000000</td>\n",
       "    </tr>\n",
       "    <tr>\n",
       "      <th>mean</th>\n",
       "      <td>-0.014853</td>\n",
       "      <td>-0.063072</td>\n",
       "    </tr>\n",
       "    <tr>\n",
       "      <th>std</th>\n",
       "      <td>1.043569</td>\n",
       "      <td>1.036048</td>\n",
       "    </tr>\n",
       "    <tr>\n",
       "      <th>min</th>\n",
       "      <td>-1.729859</td>\n",
       "      <td>-1.962614</td>\n",
       "    </tr>\n",
       "    <tr>\n",
       "      <th>25%</th>\n",
       "      <td>-0.799545</td>\n",
       "      <td>-0.872720</td>\n",
       "    </tr>\n",
       "    <tr>\n",
       "      <th>50%</th>\n",
       "      <td>-0.093814</td>\n",
       "      <td>-0.081769</td>\n",
       "    </tr>\n",
       "    <tr>\n",
       "      <th>75%</th>\n",
       "      <td>0.499660</td>\n",
       "      <td>0.503833</td>\n",
       "    </tr>\n",
       "    <tr>\n",
       "      <th>max</th>\n",
       "      <td>3.900326</td>\n",
       "      <td>4.310693</td>\n",
       "    </tr>\n",
       "  </tbody>\n",
       "</table>\n",
       "</div>"
      ],
      "text/plain": [
       "           content      wording\n",
       "count  7165.000000  7165.000000\n",
       "mean     -0.014853    -0.063072\n",
       "std       1.043569     1.036048\n",
       "min      -1.729859    -1.962614\n",
       "25%      -0.799545    -0.872720\n",
       "50%      -0.093814    -0.081769\n",
       "75%       0.499660     0.503833\n",
       "max       3.900326     4.310693"
      ]
     },
     "execution_count": 7,
     "metadata": {},
     "output_type": "execute_result"
    }
   ],
   "source": [
    "train_df.describe()"
   ]
  },
  {
   "cell_type": "code",
   "execution_count": 8,
   "id": "70737af9-99c5-450e-9c99-2065b2132fb3",
   "metadata": {},
   "outputs": [
    {
     "data": {
      "text/plain": [
       "prompt_id\n",
       "39c16e    2057\n",
       "3b9047    2009\n",
       "ebad26    1996\n",
       "814d6b    1103\n",
       "Name: count, dtype: int64"
      ]
     },
     "execution_count": 8,
     "metadata": {},
     "output_type": "execute_result"
    }
   ],
   "source": [
    "train_df.prompt_id.value_counts()"
   ]
  },
  {
   "cell_type": "markdown",
   "id": "1d2732df-c232-42df-8522-307c65a0da30",
   "metadata": {},
   "source": [
    "The distribution of summaries among the prompts is somewhat similar in all but one prompt in the training data, which has approx. half of the others. Not clear what the test dataset distribution will look like."
   ]
  },
  {
   "cell_type": "markdown",
   "id": "1a195af1-9b33-4901-bd00-24c408e99314",
   "metadata": {},
   "source": [
    "Plotting the correlation between the two scores, looks like they're positively correlated"
   ]
  },
  {
   "cell_type": "code",
   "execution_count": 9,
   "id": "b4d2833e-5780-4bd5-bad5-be25651d3e02",
   "metadata": {},
   "outputs": [
    {
     "data": {
      "text/plain": [
       "<Axes: xlabel='content', ylabel='wording'>"
      ]
     },
     "execution_count": 9,
     "metadata": {},
     "output_type": "execute_result"
    },
    {
     "data": {
      "image/png": "[encoded data removed]",
      "text/plain": [
       "<Figure size 640x480 with 1 Axes>"
      ]
     },
     "metadata": {},
     "output_type": "display_data"
    }
   ],
   "source": [
    "sns.regplot(x=train_df.content, y=train_df.wording)"
   ]
  },
  {
   "cell_type": "markdown",
   "id": "60fcaf04-3370-4fb4-b164-7b74c93a4354",
   "metadata": {},
   "source": [
    "We can also look at their joint distribution."
   ]
  },
  {
   "cell_type": "code",
   "execution_count": 10,
   "id": "043499f0-b21e-45dd-8af1-b9b80c5b82f9",
   "metadata": {},
   "outputs": [
    {
     "data": {
      "text/plain": [
       "<seaborn.axisgrid.JointGrid at 0x7f44194883d0>"
      ]
     },
     "execution_count": 10,
     "metadata": {},
     "output_type": "execute_result"
    },
    {
     "data": {
      "image/png": "[encoded data removed]",
      "text/plain": [
       "<Figure size 600x600 with 3 Axes>"
      ]
     },
     "metadata": {},
     "output_type": "display_data"
    }
   ],
   "source": [
    "sns.jointplot(x=train_df.content, y=train_df.wording, kind=\"kde\")"
   ]
  },
  {
   "cell_type": "markdown",
   "id": "d7217c06-27f4-4cc7-a24b-164504f7926a",
   "metadata": {},
   "source": [
    "Looks like there are 2 discernible clusters"
   ]
  },
  {
   "cell_type": "markdown",
   "id": "ec5787db-3597-41c8-a07d-10593f2c95f8",
   "metadata": {},
   "source": [
    "## Feature Engineering\n",
    "\n",
    "We perform some basic feature engineering on the `text` of the summaries. Inspired by [this notebook][2]\n",
    "\n",
    "[2]: https://www.kaggle.com/code/sercanyesiloz/commonlit-tf-idf-xgb-baseline#4.-Feature-Engineering"
   ]
  },
  {
   "cell_type": "code",
   "execution_count": 11,
   "id": "1cacabcf-2ef4-4d42-9ed5-e27d1a34b84f",
   "metadata": {},
   "outputs": [
    {
     "name": "stderr",
     "output_type": "stream",
     "text": [
      "[nltk_data] Downloading package stopwords to /home/krm/nltk_data...\n",
      "[nltk_data]   Package stopwords is already up-to-date!\n"
     ]
    }
   ],
   "source": [
    "import string\n",
    "import nltk\n",
    "import re\n",
    "\n",
    "if not is_kaggle: nltk.download(\"stopwords\")\n",
    "from nltk.corpus import stopwords"
   ]
  },
  {
   "cell_type": "markdown",
   "id": "01e69f5d-e567-468b-84be-fbc8d2665c1f",
   "metadata": {},
   "source": [
    "Stop words are words which are frequently removed before natural language processing since they do not add significant meaning to the text. We'll make a function to count them."
   ]
  },
  {
   "cell_type": "code",
   "execution_count": 12,
   "id": "3e7d0cea-9e30-4aa0-a883-0e0de23f890d",
   "metadata": {},
   "outputs": [
    {
     "data": {
      "text/plain": [
       "\"both, but, doing, weren't, re, she, until, what, other, them, ourselves, didn't, weren't, s, his, himself, that, by, itself, for\""
      ]
     },
     "execution_count": 12,
     "metadata": {},
     "output_type": "execute_result"
    }
   ],
   "source": [
    "\", \".join([random.choice(stopwords.words('english')) for _ in range(20)])"
   ]
  },
  {
   "cell_type": "code",
   "execution_count": 13,
   "id": "c50c790f-26a9-4a47-b58d-50fda53c23d8",
   "metadata": {},
   "outputs": [
    {
     "data": {
      "text/plain": [
       "25"
      ]
     },
     "execution_count": 13,
     "metadata": {},
     "output_type": "execute_result"
    }
   ],
   "source": [
    "stopword_set = set(stopwords.words('english'))\n",
    "\n",
    "def count_stopwords(text):\n",
    "    return sum([1 for word in text.split() if word.lower() in stopword_set])\n",
    "\n",
    "sample_text = train_df.text[0]\n",
    "count_stopwords(sample_text)"
   ]
  },
  {
   "cell_type": "markdown",
   "id": "1cfcbc50-6686-4781-a869-7d6eec79dc6b",
   "metadata": {},
   "source": [
    "We also extract some additional features; counts of numbers, punctuation, words, the text length.."
   ]
  },
  {
   "cell_type": "code",
   "execution_count": 14,
   "id": "cf90705c-d2f1-42b0-8162-1b2cd58747fe",
   "metadata": {},
   "outputs": [
    {
     "data": {
      "text/plain": [
       "3"
      ]
     },
     "execution_count": 14,
     "metadata": {},
     "output_type": "execute_result"
    }
   ],
   "source": [
    "punctuation_set = set(string.punctuation)\n",
    "\n",
    "def count_punctuation(text):\n",
    "    return sum([1 for char in text if char in punctuation_set])\n",
    "\n",
    "count_punctuation(sample_text)"
   ]
  },
  {
   "cell_type": "code",
   "execution_count": 15,
   "id": "c0519ef0-50f9-4e28-90a4-1fa5178abc8f",
   "metadata": {},
   "outputs": [
    {
     "data": {
      "text/plain": [
       "0"
      ]
     },
     "execution_count": 15,
     "metadata": {},
     "output_type": "execute_result"
    }
   ],
   "source": [
    "def count_numbers(text):\n",
    "    return len(re.findall(r'\\d+', text))\n",
    "\n",
    "count_numbers(sample_text)"
   ]
  },
  {
   "cell_type": "code",
   "execution_count": 16,
   "id": "9e027491-4803-4653-b1d0-4e27b90f7e9b",
   "metadata": {},
   "outputs": [],
   "source": [
    "def add_textual_features(dataframe):\n",
    "    column_name = \"text\"\n",
    "    dataframe[f'{column_name}_word_count'] = dataframe[column_name].apply(lambda text: len(text.split()))\n",
    "    dataframe[f'{column_name}_length'] = dataframe[column_name].apply(lambda text: len(text))\n",
    "    dataframe[f'{column_name}_stopword_count'] = dataframe[column_name].apply(lambda text: count_stopwords(text))\n",
    "    dataframe[f'{column_name}_punctuation_count'] = dataframe[column_name].apply(lambda text: count_punctuation(text))\n",
    "    dataframe[f'{column_name}_number_count'] = dataframe[column_name].apply(lambda text: count_numbers(text))\n",
    "    dataframe[f'{column_name}_to_prompt_ratio'] = dataframe.apply(lambda row: len(row.text.split()) / len(row.prompt_text.split()), axis=1)\n",
    "    \n",
    "    return dataframe\n",
    "\n",
    "full_train_df = add_textual_features(train_df)\n",
    "full_test_df = add_textual_features(test_df)"
   ]
  },
  {
   "cell_type": "code",
   "execution_count": 17,
   "id": "223afb8d-6d80-4501-b94d-cac9790d410f",
   "metadata": {},
   "outputs": [
    {
     "data": {
      "text/html": [
       "<div>\n",
       "<style scoped>\n",
       "    .dataframe tbody tr th:only-of-type {\n",
       "        vertical-align: middle;\n",
       "    }\n",
       "\n",
       "    .dataframe tbody tr th {\n",
       "        vertical-align: top;\n",
       "    }\n",
       "\n",
       "    .dataframe thead th {\n",
       "        text-align: right;\n",
       "    }\n",
       "</style>\n",
       "<table border=\"1\" class=\"dataframe\">\n",
       "  <thead>\n",
       "    <tr style=\"text-align: right;\">\n",
       "      <th></th>\n",
       "      <th>content</th>\n",
       "      <th>wording</th>\n",
       "      <th>text_word_count</th>\n",
       "      <th>text_length</th>\n",
       "      <th>text_stopword_count</th>\n",
       "      <th>text_punctuation_count</th>\n",
       "      <th>text_number_count</th>\n",
       "      <th>text_to_prompt_ratio</th>\n",
       "    </tr>\n",
       "  </thead>\n",
       "  <tbody>\n",
       "    <tr>\n",
       "      <th>count</th>\n",
       "      <td>7165.000000</td>\n",
       "      <td>7165.000000</td>\n",
       "      <td>7165.000000</td>\n",
       "      <td>7165.000000</td>\n",
       "      <td>7165.000000</td>\n",
       "      <td>7165.000000</td>\n",
       "      <td>7165.000000</td>\n",
       "      <td>7165.000000</td>\n",
       "    </tr>\n",
       "    <tr>\n",
       "      <th>mean</th>\n",
       "      <td>-0.014853</td>\n",
       "      <td>-0.063072</td>\n",
       "      <td>74.811724</td>\n",
       "      <td>418.776971</td>\n",
       "      <td>36.306769</td>\n",
       "      <td>9.355059</td>\n",
       "      <td>0.378786</td>\n",
       "      <td>0.114185</td>\n",
       "    </tr>\n",
       "    <tr>\n",
       "      <th>std</th>\n",
       "      <td>1.043569</td>\n",
       "      <td>1.036048</td>\n",
       "      <td>53.503992</td>\n",
       "      <td>307.833685</td>\n",
       "      <td>25.813092</td>\n",
       "      <td>9.474397</td>\n",
       "      <td>0.937313</td>\n",
       "      <td>0.086843</td>\n",
       "    </tr>\n",
       "    <tr>\n",
       "      <th>min</th>\n",
       "      <td>-1.729859</td>\n",
       "      <td>-1.962614</td>\n",
       "      <td>22.000000</td>\n",
       "      <td>114.000000</td>\n",
       "      <td>5.000000</td>\n",
       "      <td>0.000000</td>\n",
       "      <td>0.000000</td>\n",
       "      <td>0.023810</td>\n",
       "    </tr>\n",
       "    <tr>\n",
       "      <th>25%</th>\n",
       "      <td>-0.799545</td>\n",
       "      <td>-0.872720</td>\n",
       "      <td>39.000000</td>\n",
       "      <td>216.000000</td>\n",
       "      <td>19.000000</td>\n",
       "      <td>4.000000</td>\n",
       "      <td>0.000000</td>\n",
       "      <td>0.058725</td>\n",
       "    </tr>\n",
       "    <tr>\n",
       "      <th>50%</th>\n",
       "      <td>-0.093814</td>\n",
       "      <td>-0.081769</td>\n",
       "      <td>58.000000</td>\n",
       "      <td>320.000000</td>\n",
       "      <td>28.000000</td>\n",
       "      <td>6.000000</td>\n",
       "      <td>0.000000</td>\n",
       "      <td>0.087748</td>\n",
       "    </tr>\n",
       "    <tr>\n",
       "      <th>75%</th>\n",
       "      <td>0.499660</td>\n",
       "      <td>0.503833</td>\n",
       "      <td>92.000000</td>\n",
       "      <td>513.000000</td>\n",
       "      <td>45.000000</td>\n",
       "      <td>12.000000</td>\n",
       "      <td>0.000000</td>\n",
       "      <td>0.138182</td>\n",
       "    </tr>\n",
       "    <tr>\n",
       "      <th>max</th>\n",
       "      <td>3.900326</td>\n",
       "      <td>4.310693</td>\n",
       "      <td>647.000000</td>\n",
       "      <td>3940.000000</td>\n",
       "      <td>315.000000</td>\n",
       "      <td>162.000000</td>\n",
       "      <td>14.000000</td>\n",
       "      <td>1.176364</td>\n",
       "    </tr>\n",
       "  </tbody>\n",
       "</table>\n",
       "</div>"
      ],
      "text/plain": [
       "           content      wording  text_word_count  text_length  \\\n",
       "count  7165.000000  7165.000000      7165.000000  7165.000000   \n",
       "mean     -0.014853    -0.063072        74.811724   418.776971   \n",
       "std       1.043569     1.036048        53.503992   307.833685   \n",
       "min      -1.729859    -1.962614        22.000000   114.000000   \n",
       "25%      -0.799545    -0.872720        39.000000   216.000000   \n",
       "50%      -0.093814    -0.081769        58.000000   320.000000   \n",
       "75%       0.499660     0.503833        92.000000   513.000000   \n",
       "max       3.900326     4.310693       647.000000  3940.000000   \n",
       "\n",
       "       text_stopword_count  text_punctuation_count  text_number_count  \\\n",
       "count          7165.000000             7165.000000        7165.000000   \n",
       "mean             36.306769                9.355059           0.378786   \n",
       "std              25.813092                9.474397           0.937313   \n",
       "min               5.000000                0.000000           0.000000   \n",
       "25%              19.000000                4.000000           0.000000   \n",
       "50%              28.000000                6.000000           0.000000   \n",
       "75%              45.000000               12.000000           0.000000   \n",
       "max             315.000000              162.000000          14.000000   \n",
       "\n",
       "       text_to_prompt_ratio  \n",
       "count           7165.000000  \n",
       "mean               0.114185  \n",
       "std                0.086843  \n",
       "min                0.023810  \n",
       "25%                0.058725  \n",
       "50%                0.087748  \n",
       "75%                0.138182  \n",
       "max                1.176364  "
      ]
     },
     "execution_count": 17,
     "metadata": {},
     "output_type": "execute_result"
    }
   ],
   "source": [
    "full_train_df.describe()"
   ]
  },
  {
   "cell_type": "code",
   "execution_count": 18,
   "id": "8188d247-fcf8-4670-815a-7c181a1ec761",
   "metadata": {},
   "outputs": [
    {
     "data": {
      "text/html": [
       "<div>\n",
       "<style scoped>\n",
       "    .dataframe tbody tr th:only-of-type {\n",
       "        vertical-align: middle;\n",
       "    }\n",
       "\n",
       "    .dataframe tbody tr th {\n",
       "        vertical-align: top;\n",
       "    }\n",
       "\n",
       "    .dataframe thead th {\n",
       "        text-align: right;\n",
       "    }\n",
       "</style>\n",
       "<table border=\"1\" class=\"dataframe\">\n",
       "  <thead>\n",
       "    <tr style=\"text-align: right;\">\n",
       "      <th></th>\n",
       "      <th>student_id</th>\n",
       "      <th>prompt_id</th>\n",
       "      <th>text</th>\n",
       "      <th>prompt_question</th>\n",
       "      <th>prompt_title</th>\n",
       "      <th>prompt_text</th>\n",
       "    </tr>\n",
       "  </thead>\n",
       "  <tbody>\n",
       "    <tr>\n",
       "      <th>count</th>\n",
       "      <td>7165</td>\n",
       "      <td>7165</td>\n",
       "      <td>7165</td>\n",
       "      <td>7165</td>\n",
       "      <td>7165</td>\n",
       "      <td>7165</td>\n",
       "    </tr>\n",
       "    <tr>\n",
       "      <th>unique</th>\n",
       "      <td>7165</td>\n",
       "      <td>4</td>\n",
       "      <td>7165</td>\n",
       "      <td>4</td>\n",
       "      <td>4</td>\n",
       "      <td>4</td>\n",
       "    </tr>\n",
       "    <tr>\n",
       "      <th>top</th>\n",
       "      <td>000e8c3c7ddb</td>\n",
       "      <td>39c16e</td>\n",
       "      <td>The third wave was an experimentto see how peo...</td>\n",
       "      <td>Summarize at least 3 elements of an ideal trag...</td>\n",
       "      <td>On Tragedy</td>\n",
       "      <td>Chapter 13 \\r\\nAs the sequel to what has alrea...</td>\n",
       "    </tr>\n",
       "    <tr>\n",
       "      <th>freq</th>\n",
       "      <td>1</td>\n",
       "      <td>2057</td>\n",
       "      <td>1</td>\n",
       "      <td>2057</td>\n",
       "      <td>2057</td>\n",
       "      <td>2057</td>\n",
       "    </tr>\n",
       "  </tbody>\n",
       "</table>\n",
       "</div>"
      ],
      "text/plain": [
       "          student_id prompt_id  \\\n",
       "count           7165      7165   \n",
       "unique          7165         4   \n",
       "top     000e8c3c7ddb    39c16e   \n",
       "freq               1      2057   \n",
       "\n",
       "                                                     text  \\\n",
       "count                                                7165   \n",
       "unique                                               7165   \n",
       "top     The third wave was an experimentto see how peo...   \n",
       "freq                                                    1   \n",
       "\n",
       "                                          prompt_question prompt_title  \\\n",
       "count                                                7165         7165   \n",
       "unique                                                  4            4   \n",
       "top     Summarize at least 3 elements of an ideal trag...   On Tragedy   \n",
       "freq                                                 2057         2057   \n",
       "\n",
       "                                              prompt_text  \n",
       "count                                                7165  \n",
       "unique                                                  4  \n",
       "top     Chapter 13 \\r\\nAs the sequel to what has alrea...  \n",
       "freq                                                 2057  "
      ]
     },
     "execution_count": 18,
     "metadata": {},
     "output_type": "execute_result"
    }
   ],
   "source": [
    "full_train_df.describe(include=['O'])"
   ]
  },
  {
   "cell_type": "markdown",
   "id": "dc989bc6-9ccd-4b30-ab5d-86ea7af1cd9b",
   "metadata": {},
   "source": [
    "We can see how the numeric features are correlated."
   ]
  },
  {
   "cell_type": "code",
   "execution_count": 19,
   "id": "228d1f3d-f85b-4e9a-90c5-86016bafe3b8",
   "metadata": {},
   "outputs": [
    {
     "data": {
      "text/html": [
       "<style type=\"text/css\">\n",
       "#T_91251_row0_col0, #T_91251_row1_col1, #T_91251_row2_col2, #T_91251_row3_col3, #T_91251_row4_col4, #T_91251_row5_col5, #T_91251_row6_col6, #T_91251_row7_col7 {\n",
       "  background-color: #b40426;\n",
       "  color: #f1f1f1;\n",
       "}\n",
       "#T_91251_row0_col1 {\n",
       "  background-color: #f7ac8e;\n",
       "  color: #000000;\n",
       "}\n",
       "#T_91251_row0_col2, #T_91251_row0_col4 {\n",
       "  background-color: #f7b99e;\n",
       "  color: #000000;\n",
       "}\n",
       "#T_91251_row0_col3 {\n",
       "  background-color: #f7b79b;\n",
       "  color: #000000;\n",
       "}\n",
       "#T_91251_row0_col5 {\n",
       "  background-color: #d1dae9;\n",
       "  color: #000000;\n",
       "}\n",
       "#T_91251_row0_col6 {\n",
       "  background-color: #6c8ff1;\n",
       "  color: #f1f1f1;\n",
       "}\n",
       "#T_91251_row0_col7 {\n",
       "  background-color: #f6bfa6;\n",
       "  color: #000000;\n",
       "}\n",
       "#T_91251_row1_col0 {\n",
       "  background-color: #f6bea4;\n",
       "  color: #000000;\n",
       "}\n",
       "#T_91251_row1_col2, #T_91251_row1_col3 {\n",
       "  background-color: #8caffe;\n",
       "  color: #000000;\n",
       "}\n",
       "#T_91251_row1_col4 {\n",
       "  background-color: #9bbcff;\n",
       "  color: #000000;\n",
       "}\n",
       "#T_91251_row1_col5, #T_91251_row1_col6, #T_91251_row6_col0, #T_91251_row6_col1, #T_91251_row6_col2, #T_91251_row6_col3, #T_91251_row6_col4, #T_91251_row6_col7 {\n",
       "  background-color: #3b4cc0;\n",
       "  color: #f1f1f1;\n",
       "}\n",
       "#T_91251_row1_col7 {\n",
       "  background-color: #9dbdff;\n",
       "  color: #000000;\n",
       "}\n",
       "#T_91251_row2_col0, #T_91251_row5_col4 {\n",
       "  background-color: #f7aa8c;\n",
       "  color: #000000;\n",
       "}\n",
       "#T_91251_row2_col1, #T_91251_row4_col1 {\n",
       "  background-color: #cedaeb;\n",
       "  color: #000000;\n",
       "}\n",
       "#T_91251_row2_col3, #T_91251_row3_col2 {\n",
       "  background-color: #b70d28;\n",
       "  color: #f1f1f1;\n",
       "}\n",
       "#T_91251_row2_col4, #T_91251_row4_col2 {\n",
       "  background-color: #bb1b2c;\n",
       "  color: #f1f1f1;\n",
       "}\n",
       "#T_91251_row2_col5 {\n",
       "  background-color: #f39577;\n",
       "  color: #000000;\n",
       "}\n",
       "#T_91251_row2_col6 {\n",
       "  background-color: #92b4fe;\n",
       "  color: #000000;\n",
       "}\n",
       "#T_91251_row2_col7 {\n",
       "  background-color: #d65244;\n",
       "  color: #f1f1f1;\n",
       "}\n",
       "#T_91251_row3_col0 {\n",
       "  background-color: #f7a889;\n",
       "  color: #000000;\n",
       "}\n",
       "#T_91251_row3_col1 {\n",
       "  background-color: #cfdaea;\n",
       "  color: #000000;\n",
       "}\n",
       "#T_91251_row3_col4 {\n",
       "  background-color: #c32e31;\n",
       "  color: #f1f1f1;\n",
       "}\n",
       "#T_91251_row3_col5 {\n",
       "  background-color: #f08b6e;\n",
       "  color: #f1f1f1;\n",
       "}\n",
       "#T_91251_row3_col6 {\n",
       "  background-color: #94b6ff;\n",
       "  color: #000000;\n",
       "}\n",
       "#T_91251_row3_col7 {\n",
       "  background-color: #cd423b;\n",
       "  color: #f1f1f1;\n",
       "}\n",
       "#T_91251_row4_col0 {\n",
       "  background-color: #f7b194;\n",
       "  color: #000000;\n",
       "}\n",
       "#T_91251_row4_col3 {\n",
       "  background-color: #c43032;\n",
       "  color: #f1f1f1;\n",
       "}\n",
       "#T_91251_row4_col5 {\n",
       "  background-color: #f7b396;\n",
       "  color: #000000;\n",
       "}\n",
       "#T_91251_row4_col6 {\n",
       "  background-color: #82a6fb;\n",
       "  color: #f1f1f1;\n",
       "}\n",
       "#T_91251_row4_col7 {\n",
       "  background-color: #dc5d4a;\n",
       "  color: #f1f1f1;\n",
       "}\n",
       "#T_91251_row5_col0 {\n",
       "  background-color: #e5d8d1;\n",
       "  color: #000000;\n",
       "}\n",
       "#T_91251_row5_col1 {\n",
       "  background-color: #97b8ff;\n",
       "  color: #000000;\n",
       "}\n",
       "#T_91251_row5_col2 {\n",
       "  background-color: #f39475;\n",
       "  color: #000000;\n",
       "}\n",
       "#T_91251_row5_col3 {\n",
       "  background-color: #f08a6c;\n",
       "  color: #f1f1f1;\n",
       "}\n",
       "#T_91251_row5_col6 {\n",
       "  background-color: #abc8fd;\n",
       "  color: #000000;\n",
       "}\n",
       "#T_91251_row5_col7 {\n",
       "  background-color: #f7af91;\n",
       "  color: #000000;\n",
       "}\n",
       "#T_91251_row6_col5 {\n",
       "  background-color: #536edd;\n",
       "  color: #f1f1f1;\n",
       "}\n",
       "#T_91251_row7_col0, #T_91251_row7_col5 {\n",
       "  background-color: #f7b599;\n",
       "  color: #000000;\n",
       "}\n",
       "#T_91251_row7_col1 {\n",
       "  background-color: #d2dbe8;\n",
       "  color: #000000;\n",
       "}\n",
       "#T_91251_row7_col2 {\n",
       "  background-color: #d75445;\n",
       "  color: #f1f1f1;\n",
       "}\n",
       "#T_91251_row7_col3 {\n",
       "  background-color: #cf453c;\n",
       "  color: #f1f1f1;\n",
       "}\n",
       "#T_91251_row7_col4 {\n",
       "  background-color: #da5a49;\n",
       "  color: #f1f1f1;\n",
       "}\n",
       "#T_91251_row7_col6 {\n",
       "  background-color: #86a9fc;\n",
       "  color: #f1f1f1;\n",
       "}\n",
       "</style>\n",
       "<table id=\"T_91251\">\n",
       "  <thead>\n",
       "    <tr>\n",
       "      <th class=\"blank level0\" >&nbsp;</th>\n",
       "      <th id=\"T_91251_level0_col0\" class=\"col_heading level0 col0\" >content</th>\n",
       "      <th id=\"T_91251_level0_col1\" class=\"col_heading level0 col1\" >wording</th>\n",
       "      <th id=\"T_91251_level0_col2\" class=\"col_heading level0 col2\" >text_word_count</th>\n",
       "      <th id=\"T_91251_level0_col3\" class=\"col_heading level0 col3\" >text_length</th>\n",
       "      <th id=\"T_91251_level0_col4\" class=\"col_heading level0 col4\" >text_stopword_count</th>\n",
       "      <th id=\"T_91251_level0_col5\" class=\"col_heading level0 col5\" >text_punctuation_count</th>\n",
       "      <th id=\"T_91251_level0_col6\" class=\"col_heading level0 col6\" >text_number_count</th>\n",
       "      <th id=\"T_91251_level0_col7\" class=\"col_heading level0 col7\" >text_to_prompt_ratio</th>\n",
       "    </tr>\n",
       "  </thead>\n",
       "  <tbody>\n",
       "    <tr>\n",
       "      <th id=\"T_91251_level0_row0\" class=\"row_heading level0 row0\" >content</th>\n",
       "      <td id=\"T_91251_row0_col0\" class=\"data row0 col0\" >1.000000</td>\n",
       "      <td id=\"T_91251_row0_col1\" class=\"data row0 col1\" >0.751380</td>\n",
       "      <td id=\"T_91251_row0_col2\" class=\"data row0 col2\" >0.792626</td>\n",
       "      <td id=\"T_91251_row0_col3\" class=\"data row0 col3\" >0.797244</td>\n",
       "      <td id=\"T_91251_row0_col4\" class=\"data row0 col4\" >0.778149</td>\n",
       "      <td id=\"T_91251_row0_col5\" class=\"data row0 col5\" >0.670398</td>\n",
       "      <td id=\"T_91251_row0_col6\" class=\"data row0 col6\" >0.296109</td>\n",
       "      <td id=\"T_91251_row0_col7\" class=\"data row0 col7\" >0.770008</td>\n",
       "    </tr>\n",
       "    <tr>\n",
       "      <th id=\"T_91251_level0_row1\" class=\"row_heading level0 row1\" >wording</th>\n",
       "      <td id=\"T_91251_row1_col0\" class=\"data row1 col0\" >0.751380</td>\n",
       "      <td id=\"T_91251_row1_col1\" class=\"data row1 col1\" >1.000000</td>\n",
       "      <td id=\"T_91251_row1_col2\" class=\"data row1 col2\" >0.536343</td>\n",
       "      <td id=\"T_91251_row1_col3\" class=\"data row1 col3\" >0.540138</td>\n",
       "      <td id=\"T_91251_row1_col4\" class=\"data row1 col4\" >0.538102</td>\n",
       "      <td id=\"T_91251_row1_col5\" class=\"data row1 col5\" >0.396094</td>\n",
       "      <td id=\"T_91251_row1_col6\" class=\"data row1 col6\" >0.162928</td>\n",
       "      <td id=\"T_91251_row1_col7\" class=\"data row1 col7\" >0.547368</td>\n",
       "    </tr>\n",
       "    <tr>\n",
       "      <th id=\"T_91251_level0_row2\" class=\"row_heading level0 row2\" >text_word_count</th>\n",
       "      <td id=\"T_91251_row2_col0\" class=\"data row2 col0\" >0.792626</td>\n",
       "      <td id=\"T_91251_row2_col1\" class=\"data row2 col1\" >0.536343</td>\n",
       "      <td id=\"T_91251_row2_col2\" class=\"data row2 col2\" >1.000000</td>\n",
       "      <td id=\"T_91251_row2_col3\" class=\"data row2 col3\" >0.994072</td>\n",
       "      <td id=\"T_91251_row2_col4\" class=\"data row2 col4\" >0.987230</td>\n",
       "      <td id=\"T_91251_row2_col5\" class=\"data row2 col5\" >0.853952</td>\n",
       "      <td id=\"T_91251_row2_col6\" class=\"data row2 col6\" >0.384021</td>\n",
       "      <td id=\"T_91251_row2_col7\" class=\"data row2 col7\" >0.935513</td>\n",
       "    </tr>\n",
       "    <tr>\n",
       "      <th id=\"T_91251_level0_row3\" class=\"row_heading level0 row3\" >text_length</th>\n",
       "      <td id=\"T_91251_row3_col0\" class=\"data row3 col0\" >0.797244</td>\n",
       "      <td id=\"T_91251_row3_col1\" class=\"data row3 col1\" >0.540138</td>\n",
       "      <td id=\"T_91251_row3_col2\" class=\"data row3 col2\" >0.994072</td>\n",
       "      <td id=\"T_91251_row3_col3\" class=\"data row3 col3\" >1.000000</td>\n",
       "      <td id=\"T_91251_row3_col4\" class=\"data row3 col4\" >0.972962</td>\n",
       "      <td id=\"T_91251_row3_col5\" class=\"data row3 col5\" >0.870013</td>\n",
       "      <td id=\"T_91251_row3_col6\" class=\"data row3 col6\" >0.388909</td>\n",
       "      <td id=\"T_91251_row3_col7\" class=\"data row3 col7\" >0.952742</td>\n",
       "    </tr>\n",
       "    <tr>\n",
       "      <th id=\"T_91251_level0_row4\" class=\"row_heading level0 row4\" >text_stopword_count</th>\n",
       "      <td id=\"T_91251_row4_col0\" class=\"data row4 col0\" >0.778149</td>\n",
       "      <td id=\"T_91251_row4_col1\" class=\"data row4 col1\" >0.538102</td>\n",
       "      <td id=\"T_91251_row4_col2\" class=\"data row4 col2\" >0.987230</td>\n",
       "      <td id=\"T_91251_row4_col3\" class=\"data row4 col3\" >0.972962</td>\n",
       "      <td id=\"T_91251_row4_col4\" class=\"data row4 col4\" >1.000000</td>\n",
       "      <td id=\"T_91251_row4_col5\" class=\"data row4 col5\" >0.806981</td>\n",
       "      <td id=\"T_91251_row4_col6\" class=\"data row4 col6\" >0.347115</td>\n",
       "      <td id=\"T_91251_row4_col7\" class=\"data row4 col7\" >0.924365</td>\n",
       "    </tr>\n",
       "    <tr>\n",
       "      <th id=\"T_91251_level0_row5\" class=\"row_heading level0 row5\" >text_punctuation_count</th>\n",
       "      <td id=\"T_91251_row5_col0\" class=\"data row5 col0\" >0.670398</td>\n",
       "      <td id=\"T_91251_row5_col1\" class=\"data row5 col1\" >0.396094</td>\n",
       "      <td id=\"T_91251_row5_col2\" class=\"data row5 col2\" >0.853952</td>\n",
       "      <td id=\"T_91251_row5_col3\" class=\"data row5 col3\" >0.870013</td>\n",
       "      <td id=\"T_91251_row5_col4\" class=\"data row5 col4\" >0.806981</td>\n",
       "      <td id=\"T_91251_row5_col5\" class=\"data row5 col5\" >1.000000</td>\n",
       "      <td id=\"T_91251_row5_col6\" class=\"data row5 col6\" >0.444333</td>\n",
       "      <td id=\"T_91251_row5_col7\" class=\"data row5 col7\" >0.803479</td>\n",
       "    </tr>\n",
       "    <tr>\n",
       "      <th id=\"T_91251_level0_row6\" class=\"row_heading level0 row6\" >text_number_count</th>\n",
       "      <td id=\"T_91251_row6_col0\" class=\"data row6 col0\" >0.296109</td>\n",
       "      <td id=\"T_91251_row6_col1\" class=\"data row6 col1\" >0.162928</td>\n",
       "      <td id=\"T_91251_row6_col2\" class=\"data row6 col2\" >0.384021</td>\n",
       "      <td id=\"T_91251_row6_col3\" class=\"data row6 col3\" >0.388909</td>\n",
       "      <td id=\"T_91251_row6_col4\" class=\"data row6 col4\" >0.347115</td>\n",
       "      <td id=\"T_91251_row6_col5\" class=\"data row6 col5\" >0.444333</td>\n",
       "      <td id=\"T_91251_row6_col6\" class=\"data row6 col6\" >1.000000</td>\n",
       "      <td id=\"T_91251_row6_col7\" class=\"data row6 col7\" >0.358018</td>\n",
       "    </tr>\n",
       "    <tr>\n",
       "      <th id=\"T_91251_level0_row7\" class=\"row_heading level0 row7\" >text_to_prompt_ratio</th>\n",
       "      <td id=\"T_91251_row7_col0\" class=\"data row7 col0\" >0.770008</td>\n",
       "      <td id=\"T_91251_row7_col1\" class=\"data row7 col1\" >0.547368</td>\n",
       "      <td id=\"T_91251_row7_col2\" class=\"data row7 col2\" >0.935513</td>\n",
       "      <td id=\"T_91251_row7_col3\" class=\"data row7 col3\" >0.952742</td>\n",
       "      <td id=\"T_91251_row7_col4\" class=\"data row7 col4\" >0.924365</td>\n",
       "      <td id=\"T_91251_row7_col5\" class=\"data row7 col5\" >0.803479</td>\n",
       "      <td id=\"T_91251_row7_col6\" class=\"data row7 col6\" >0.358018</td>\n",
       "      <td id=\"T_91251_row7_col7\" class=\"data row7 col7\" >1.000000</td>\n",
       "    </tr>\n",
       "  </tbody>\n",
       "</table>\n"
      ],
      "text/plain": [
       "<pandas.io.formats.style.Styler at 0x7f43e060cee0>"
      ]
     },
     "execution_count": 19,
     "metadata": {},
     "output_type": "execute_result"
    }
   ],
   "source": [
    "corr = full_train_df.corr(numeric_only=True)\n",
    "corr.style.background_gradient(cmap='coolwarm')"
   ]
  },
  {
   "cell_type": "markdown",
   "id": "2c73a87d-0254-48f0-a6bc-414f423169f0",
   "metadata": {},
   "source": [
    "## Training, Validation, Testing sets"
   ]
  },
  {
   "cell_type": "markdown",
   "id": "2f7e73bc-4d29-4c68-b8c0-8208516c1df6",
   "metadata": {},
   "source": [
    "We prepare the training and validation sets. The RF baseline model will all features as numbers:"
   ]
  },
  {
   "cell_type": "code",
   "execution_count": 20,
   "id": "9ece034a-9edc-4e70-b337-503836e5dd75",
   "metadata": {},
   "outputs": [],
   "source": [
    "excluded_cols = [\"text\", \"prompt_question\", \"prompt_title\", \"prompt_text\"]\n",
    "categorical_cols = [\"student_id\", \"prompt_id\"]\n",
    "\n",
    "def standardize_features(df):\n",
    "    df = df.drop(columns=excluded_cols)\n",
    "    for col in categorical_cols:\n",
    "        df[col] = pd.Categorical(df[col]).codes\n",
    "    return df\n",
    "\n",
    "std_train_df = standardize_features(full_train_df)\n",
    "std_test_df = standardize_features(full_test_df)"
   ]
  },
  {
   "cell_type": "code",
   "execution_count": 21,
   "id": "d9217250-5790-4cb8-b247-6d41cd6d1ef5",
   "metadata": {},
   "outputs": [
    {
     "data": {
      "text/html": [
       "<div>\n",
       "<style scoped>\n",
       "    .dataframe tbody tr th:only-of-type {\n",
       "        vertical-align: middle;\n",
       "    }\n",
       "\n",
       "    .dataframe tbody tr th {\n",
       "        vertical-align: top;\n",
       "    }\n",
       "\n",
       "    .dataframe thead th {\n",
       "        text-align: right;\n",
       "    }\n",
       "</style>\n",
       "<table border=\"1\" class=\"dataframe\">\n",
       "  <thead>\n",
       "    <tr style=\"text-align: right;\">\n",
       "      <th></th>\n",
       "      <th>student_id</th>\n",
       "      <th>prompt_id</th>\n",
       "      <th>content</th>\n",
       "      <th>wording</th>\n",
       "      <th>text_word_count</th>\n",
       "      <th>text_length</th>\n",
       "      <th>text_stopword_count</th>\n",
       "      <th>text_punctuation_count</th>\n",
       "      <th>text_number_count</th>\n",
       "      <th>text_to_prompt_ratio</th>\n",
       "    </tr>\n",
       "  </thead>\n",
       "  <tbody>\n",
       "    <tr>\n",
       "      <th>0</th>\n",
       "      <td>0</td>\n",
       "      <td>2</td>\n",
       "      <td>0.205683</td>\n",
       "      <td>0.380538</td>\n",
       "      <td>61</td>\n",
       "      <td>346</td>\n",
       "      <td>25</td>\n",
       "      <td>3</td>\n",
       "      <td>0</td>\n",
       "      <td>0.102349</td>\n",
       "    </tr>\n",
       "    <tr>\n",
       "      <th>1</th>\n",
       "      <td>4</td>\n",
       "      <td>2</td>\n",
       "      <td>3.272894</td>\n",
       "      <td>3.219757</td>\n",
       "      <td>203</td>\n",
       "      <td>1225</td>\n",
       "      <td>92</td>\n",
       "      <td>30</td>\n",
       "      <td>3</td>\n",
       "      <td>0.340604</td>\n",
       "    </tr>\n",
       "    <tr>\n",
       "      <th>2</th>\n",
       "      <td>14</td>\n",
       "      <td>2</td>\n",
       "      <td>0.205683</td>\n",
       "      <td>0.380538</td>\n",
       "      <td>60</td>\n",
       "      <td>345</td>\n",
       "      <td>27</td>\n",
       "      <td>9</td>\n",
       "      <td>0</td>\n",
       "      <td>0.100671</td>\n",
       "    </tr>\n",
       "    <tr>\n",
       "      <th>3</th>\n",
       "      <td>18</td>\n",
       "      <td>2</td>\n",
       "      <td>0.567975</td>\n",
       "      <td>0.969062</td>\n",
       "      <td>76</td>\n",
       "      <td>451</td>\n",
       "      <td>35</td>\n",
       "      <td>10</td>\n",
       "      <td>0</td>\n",
       "      <td>0.127517</td>\n",
       "    </tr>\n",
       "    <tr>\n",
       "      <th>4</th>\n",
       "      <td>20</td>\n",
       "      <td>2</td>\n",
       "      <td>-0.910596</td>\n",
       "      <td>-0.081769</td>\n",
       "      <td>27</td>\n",
       "      <td>145</td>\n",
       "      <td>12</td>\n",
       "      <td>2</td>\n",
       "      <td>0</td>\n",
       "      <td>0.045302</td>\n",
       "    </tr>\n",
       "    <tr>\n",
       "      <th>...</th>\n",
       "      <td>...</td>\n",
       "      <td>...</td>\n",
       "      <td>...</td>\n",
       "      <td>...</td>\n",
       "      <td>...</td>\n",
       "      <td>...</td>\n",
       "      <td>...</td>\n",
       "      <td>...</td>\n",
       "      <td>...</td>\n",
       "      <td>...</td>\n",
       "    </tr>\n",
       "    <tr>\n",
       "      <th>7160</th>\n",
       "      <td>7143</td>\n",
       "      <td>0</td>\n",
       "      <td>-0.981265</td>\n",
       "      <td>-1.548900</td>\n",
       "      <td>33</td>\n",
       "      <td>180</td>\n",
       "      <td>16</td>\n",
       "      <td>1</td>\n",
       "      <td>0</td>\n",
       "      <td>0.054636</td>\n",
       "    </tr>\n",
       "    <tr>\n",
       "      <th>7161</th>\n",
       "      <td>7145</td>\n",
       "      <td>0</td>\n",
       "      <td>-0.511077</td>\n",
       "      <td>-1.589115</td>\n",
       "      <td>30</td>\n",
       "      <td>163</td>\n",
       "      <td>15</td>\n",
       "      <td>3</td>\n",
       "      <td>0</td>\n",
       "      <td>0.049669</td>\n",
       "    </tr>\n",
       "    <tr>\n",
       "      <th>7162</th>\n",
       "      <td>7146</td>\n",
       "      <td>0</td>\n",
       "      <td>-0.834946</td>\n",
       "      <td>-0.593749</td>\n",
       "      <td>29</td>\n",
       "      <td>150</td>\n",
       "      <td>16</td>\n",
       "      <td>3</td>\n",
       "      <td>0</td>\n",
       "      <td>0.048013</td>\n",
       "    </tr>\n",
       "    <tr>\n",
       "      <th>7163</th>\n",
       "      <td>7157</td>\n",
       "      <td>0</td>\n",
       "      <td>-0.157460</td>\n",
       "      <td>-0.165811</td>\n",
       "      <td>49</td>\n",
       "      <td>297</td>\n",
       "      <td>22</td>\n",
       "      <td>4</td>\n",
       "      <td>0</td>\n",
       "      <td>0.081126</td>\n",
       "    </tr>\n",
       "    <tr>\n",
       "      <th>7164</th>\n",
       "      <td>7163</td>\n",
       "      <td>0</td>\n",
       "      <td>-0.393310</td>\n",
       "      <td>0.627128</td>\n",
       "      <td>59</td>\n",
       "      <td>294</td>\n",
       "      <td>27</td>\n",
       "      <td>4</td>\n",
       "      <td>0</td>\n",
       "      <td>0.097682</td>\n",
       "    </tr>\n",
       "  </tbody>\n",
       "</table>\n",
       "<p>7165 rows × 10 columns</p>\n",
       "</div>"
      ],
      "text/plain": [
       "      student_id  prompt_id   content   wording  text_word_count  text_length  \\\n",
       "0              0          2  0.205683  0.380538               61          346   \n",
       "1              4          2  3.272894  3.219757              203         1225   \n",
       "2             14          2  0.205683  0.380538               60          345   \n",
       "3             18          2  0.567975  0.969062               76          451   \n",
       "4             20          2 -0.910596 -0.081769               27          145   \n",
       "...          ...        ...       ...       ...              ...          ...   \n",
       "7160        7143          0 -0.981265 -1.548900               33          180   \n",
       "7161        7145          0 -0.511077 -1.589115               30          163   \n",
       "7162        7146          0 -0.834946 -0.593749               29          150   \n",
       "7163        7157          0 -0.157460 -0.165811               49          297   \n",
       "7164        7163          0 -0.393310  0.627128               59          294   \n",
       "\n",
       "      text_stopword_count  text_punctuation_count  text_number_count  \\\n",
       "0                      25                       3                  0   \n",
       "1                      92                      30                  3   \n",
       "2                      27                       9                  0   \n",
       "3                      35                      10                  0   \n",
       "4                      12                       2                  0   \n",
       "...                   ...                     ...                ...   \n",
       "7160                   16                       1                  0   \n",
       "7161                   15                       3                  0   \n",
       "7162                   16                       3                  0   \n",
       "7163                   22                       4                  0   \n",
       "7164                   27                       4                  0   \n",
       "\n",
       "      text_to_prompt_ratio  \n",
       "0                 0.102349  \n",
       "1                 0.340604  \n",
       "2                 0.100671  \n",
       "3                 0.127517  \n",
       "4                 0.045302  \n",
       "...                    ...  \n",
       "7160              0.054636  \n",
       "7161              0.049669  \n",
       "7162              0.048013  \n",
       "7163              0.081126  \n",
       "7164              0.097682  \n",
       "\n",
       "[7165 rows x 10 columns]"
      ]
     },
     "execution_count": 21,
     "metadata": {},
     "output_type": "execute_result"
    }
   ],
   "source": [
    "std_train_df"
   ]
  },
  {
   "cell_type": "markdown",
   "id": "05285437-b1de-4bc7-808e-e4024f7387e3",
   "metadata": {},
   "source": [
    "According to this [discussion][4], we expect unseen prompts in the test set. So we'll use Group K-fold so that we validate the model on unseen prompts\n",
    "\n",
    "[4]: https://www.kaggle.com/competitions/commonlit-evaluate-student-summaries/discussion/424402#2357564"
   ]
  },
  {
   "cell_type": "code",
   "execution_count": 22,
   "id": "9c221a87-47c2-41c2-b849-313cb2b71b5a",
   "metadata": {},
   "outputs": [
    {
     "name": "stdout",
     "output_type": "stream",
     "text": [
      "[2 3 1]\n",
      "[0]\n",
      "[2 3 0]\n",
      "[1]\n",
      "[2 1 0]\n",
      "[3]\n",
      "[3 1 0]\n",
      "[2]\n"
     ]
    }
   ],
   "source": [
    "from sklearn.model_selection import GroupKFold\n",
    "random.seed(42)\n",
    "\n",
    "group_k_fold = GroupKFold(n_splits=4)\n",
    "folds = list(group_k_fold.split(std_train_df, groups=std_train_df.prompt_id))\n",
    "for train, val in folds:\n",
    "    train_df = std_train_df.iloc[train]\n",
    "    val_df = std_train_df.iloc[val]\n",
    "    print(train_df.prompt_id.unique())\n",
    "    print(val_df.prompt_id.unique())"
   ]
  },
  {
   "cell_type": "markdown",
   "id": "77b50139-52ae-420d-a22c-418670fd42f1",
   "metadata": {},
   "source": [
    "# Fit Model"
   ]
  },
  {
   "cell_type": "markdown",
   "id": "a3948e99-6f3a-446e-aba2-3cf8fa16b4c1",
   "metadata": {},
   "source": [
    "We'll need two models, since we're predicting each of the content and wording scores"
   ]
  },
  {
   "cell_type": "code",
   "execution_count": 23,
   "id": "8a955fb6-5ba4-40d1-8a56-59ea040c67bb",
   "metadata": {},
   "outputs": [],
   "source": [
    "y_cols = [\"content\", \"wording\"]\n",
    "x_cols = [c for c in std_train_df.columns if not c in y_cols]\n",
    "\n",
    "def x_y(df):\n",
    "    return df[x_cols], df[y_cols]\n"
   ]
  },
  {
   "cell_type": "markdown",
   "id": "d0a4c1a1-b97b-4d6d-9e05-279ca06ecb2b",
   "metadata": {},
   "source": [
    "The competition uses the MCRMSE metric, of which some explanations have been linked to [here][1]\n",
    "\n",
    "[1]: https://www.kaggle.com/competitions/commonlit-evaluate-student-summaries/discussion/424162\n",
    "\n",
    "It is essentially the mean of the RMSE scores for each of the two dependent variables. So we'll use the RMSE of each of the two models. We'll also experiment with some hyperparameters"
   ]
  },
  {
   "cell_type": "code",
   "execution_count": 24,
   "id": "460e18a6-af6c-4f4b-ac87-de39567a18e9",
   "metadata": {},
   "outputs": [
    {
     "data": {
      "text/plain": [
       "0.19205667016058972"
      ]
     },
     "execution_count": 24,
     "metadata": {},
     "output_type": "execute_result"
    }
   ],
   "source": [
    "from sklearn.ensemble import RandomForestRegressor\n",
    "from sklearn.metrics import mean_squared_error\n",
    "import math\n",
    "\n",
    "# overfitting example\n",
    "X, y = x_y(std_train_df)\n",
    "m = RandomForestRegressor(n_jobs=-1)\n",
    "m.fit(X, y.content)\n",
    "preds = m.predict(X)\n",
    "math.sqrt(mean_squared_error(y.content, preds))"
   ]
  },
  {
   "cell_type": "code",
   "execution_count": 25,
   "id": "f6c1629c-da69-4b17-b5af-234cfb4a43d3",
   "metadata": {},
   "outputs": [],
   "source": [
    "from collections import defaultdict\n",
    "\n",
    "def get_model_rmse(train_df, val_df, target, **model_kwargs):\n",
    "    X_train, y_train = x_y(train_df)\n",
    "    X_val, y_val = x_y(val_df)\n",
    "    m = RandomForestRegressor(n_jobs=-1, **model_kwargs)\n",
    "    m.fit(X_train, y_train[target])\n",
    "    preds = m.predict(X_val)\n",
    "    rmse = math.sqrt(mean_squared_error(y_val[target], preds))\n",
    "    return m, rmse"
   ]
  },
  {
   "cell_type": "code",
   "execution_count": 26,
   "id": "2474530d-58df-4ba1-9c24-7cd87fac3a97",
   "metadata": {},
   "outputs": [
    {
     "data": {
      "text/plain": [
       "(0.5710401804441261, 0.9425909631667155, 0.7568155718054208)"
      ]
     },
     "execution_count": 26,
     "metadata": {},
     "output_type": "execute_result"
    }
   ],
   "source": [
    "results = dict(content=defaultdict(list), wording=defaultdict(list))\n",
    "\n",
    "model_kwargs = dict(oob_score=True, n_estimators=300, random_state=42, max_features=\"sqrt\", max_samples=0.3)\n",
    "\n",
    "for target in results:\n",
    "    for train_set, val_set in folds:\n",
    "        train_df = std_train_df.iloc[train_set]\n",
    "        val_df = std_train_df.iloc[val_set]\n",
    "        model, rmse = get_model_rmse(train_df, val_df, target, **model_kwargs)\n",
    "        results[target]['models'].append(model)\n",
    "        results[target]['scores'].append(rmse)\n",
    "\n",
    "content_mean_score = np.mean(results['content']['scores'])\n",
    "wording_mean_score = np.mean(results['wording']['scores'])\n",
    "overall_score = np.mean([content_mean_score, wording_mean_score])\n",
    "content_mean_score, wording_mean_score, overall_score"
   ]
  },
  {
   "cell_type": "markdown",
   "id": "ae9f5de7-7e98-4bcf-9565-cc53b6e085a9",
   "metadata": {},
   "source": [
    "We get an initial score of 0.76 with k-fold cross validation.\n",
    "\n",
    "We can also show feature importances."
   ]
  },
  {
   "cell_type": "code",
   "execution_count": 27,
   "id": "78c9dfc7-514e-4bb7-a1f0-7152d230ab97",
   "metadata": {},
   "outputs": [
    {
     "data": {
      "image/png": "[encoded data removed]",
      "text/plain": [
       "<Figure size 2500x800 with 2 Axes>"
      ]
     },
     "metadata": {},
     "output_type": "display_data"
    }
   ],
   "source": [
    "def plot_feature_importance(models, columns, ax=None, title=None):\n",
    "    feature_importances = [m.feature_importances_ for m in models]\n",
    "    df_importances = pd.DataFrame(data=feature_importances, columns=columns)\n",
    "    overall_importances = df_importances.sum().sort_values(ascending=False)\n",
    "    overall_importances.plot(kind='barh', legend=False, ax=ax, title=title)    \n",
    "\n",
    "_, (ax1, ax2) = plt.subplots(nrows=1, ncols=2, figsize=(25, 8))\n",
    "\n",
    "for target, axis in [('content', ax1), ('wording', ax2)]:\n",
    "    models = results[target]['models']\n",
    "    plot_feature_importance(models, x_cols, axis, title=target)"
   ]
  },
  {
   "cell_type": "markdown",
   "id": "8089dbb7-9fbc-4f00-af02-8447cb576a94",
   "metadata": {},
   "source": [
    "# Inference"
   ]
  },
  {
   "cell_type": "markdown",
   "id": "909515d5-8cac-4d44-badb-83067585b62c",
   "metadata": {},
   "source": [
    "Make predictions on the test set. We get predictions across the model ensemble's by averaging them."
   ]
  },
  {
   "cell_type": "code",
   "execution_count": 28,
   "id": "a71798ca-7df5-4a05-868f-a011245cf678",
   "metadata": {},
   "outputs": [
    {
     "data": {
      "text/plain": [
       "(array([-0.7987232 , -0.7987232 , -0.84734098, -0.84734098]),\n",
       " array([-0.6491979 , -0.6491979 , -0.69753788, -0.69753788]))"
      ]
     },
     "execution_count": 28,
     "metadata": {},
     "output_type": "execute_result"
    }
   ],
   "source": [
    "X_test = std_test_df[x_cols]\n",
    "\n",
    "content_preds = [m.predict(X_test) for m in results['content']['models']]\n",
    "wording_preds = [m.predict(X_test) for m in results['wording']['models']]\n",
    "\n",
    "content_avg_preds = np.stack(content_preds).mean(axis=0)\n",
    "wording_avg_preds = np.stack(wording_preds).mean(axis=0)\n",
    "content_avg_preds, wording_avg_preds"
   ]
  },
  {
   "cell_type": "markdown",
   "id": "3d48366c-301e-42f7-9014-11fd2131c7e9",
   "metadata": {},
   "source": [
    "# Submission"
   ]
  },
  {
   "cell_type": "code",
   "execution_count": 29,
   "id": "20d9410a-36ec-47d1-9710-e26e70e29025",
   "metadata": {},
   "outputs": [
    {
     "data": {
      "text/html": [
       "<div>\n",
       "<style scoped>\n",
       "    .dataframe tbody tr th:only-of-type {\n",
       "        vertical-align: middle;\n",
       "    }\n",
       "\n",
       "    .dataframe tbody tr th {\n",
       "        vertical-align: top;\n",
       "    }\n",
       "\n",
       "    .dataframe thead th {\n",
       "        text-align: right;\n",
       "    }\n",
       "</style>\n",
       "<table border=\"1\" class=\"dataframe\">\n",
       "  <thead>\n",
       "    <tr style=\"text-align: right;\">\n",
       "      <th></th>\n",
       "      <th>student_id</th>\n",
       "      <th>prompt_id</th>\n",
       "      <th>text</th>\n",
       "    </tr>\n",
       "  </thead>\n",
       "  <tbody>\n",
       "    <tr>\n",
       "      <th>0</th>\n",
       "      <td>000000ffffff</td>\n",
       "      <td>abc123</td>\n",
       "      <td>Example text 1</td>\n",
       "    </tr>\n",
       "    <tr>\n",
       "      <th>1</th>\n",
       "      <td>111111eeeeee</td>\n",
       "      <td>def789</td>\n",
       "      <td>Example text 2</td>\n",
       "    </tr>\n",
       "    <tr>\n",
       "      <th>2</th>\n",
       "      <td>222222cccccc</td>\n",
       "      <td>abc123</td>\n",
       "      <td>Example text 3</td>\n",
       "    </tr>\n",
       "    <tr>\n",
       "      <th>3</th>\n",
       "      <td>333333dddddd</td>\n",
       "      <td>def789</td>\n",
       "      <td>Example text 4</td>\n",
       "    </tr>\n",
       "  </tbody>\n",
       "</table>\n",
       "</div>"
      ],
      "text/plain": [
       "     student_id prompt_id            text\n",
       "0  000000ffffff    abc123  Example text 1\n",
       "1  111111eeeeee    def789  Example text 2\n",
       "2  222222cccccc    abc123  Example text 3\n",
       "3  333333dddddd    def789  Example text 4"
      ]
     },
     "execution_count": 29,
     "metadata": {},
     "output_type": "execute_result"
    }
   ],
   "source": [
    "summ_test_df"
   ]
  },
  {
   "cell_type": "code",
   "execution_count": 30,
   "id": "d41b31e3-06cf-4218-ab5e-a87412d6aa5c",
   "metadata": {},
   "outputs": [
    {
     "data": {
      "text/html": [
       "<div>\n",
       "<style scoped>\n",
       "    .dataframe tbody tr th:only-of-type {\n",
       "        vertical-align: middle;\n",
       "    }\n",
       "\n",
       "    .dataframe tbody tr th {\n",
       "        vertical-align: top;\n",
       "    }\n",
       "\n",
       "    .dataframe thead th {\n",
       "        text-align: right;\n",
       "    }\n",
       "</style>\n",
       "<table border=\"1\" class=\"dataframe\">\n",
       "  <thead>\n",
       "    <tr style=\"text-align: right;\">\n",
       "      <th></th>\n",
       "      <th>student_id</th>\n",
       "      <th>content</th>\n",
       "      <th>wording</th>\n",
       "    </tr>\n",
       "  </thead>\n",
       "  <tbody>\n",
       "    <tr>\n",
       "      <th>0</th>\n",
       "      <td>000000ffffff</td>\n",
       "      <td>-0.798723</td>\n",
       "      <td>-0.649198</td>\n",
       "    </tr>\n",
       "    <tr>\n",
       "      <th>1</th>\n",
       "      <td>111111eeeeee</td>\n",
       "      <td>-0.798723</td>\n",
       "      <td>-0.649198</td>\n",
       "    </tr>\n",
       "    <tr>\n",
       "      <th>2</th>\n",
       "      <td>222222cccccc</td>\n",
       "      <td>-0.847341</td>\n",
       "      <td>-0.697538</td>\n",
       "    </tr>\n",
       "    <tr>\n",
       "      <th>3</th>\n",
       "      <td>333333dddddd</td>\n",
       "      <td>-0.847341</td>\n",
       "      <td>-0.697538</td>\n",
       "    </tr>\n",
       "  </tbody>\n",
       "</table>\n",
       "</div>"
      ],
      "text/plain": [
       "     student_id   content   wording\n",
       "0  000000ffffff -0.798723 -0.649198\n",
       "1  111111eeeeee -0.798723 -0.649198\n",
       "2  222222cccccc -0.847341 -0.697538\n",
       "3  333333dddddd -0.847341 -0.697538"
      ]
     },
     "execution_count": 30,
     "metadata": {},
     "output_type": "execute_result"
    }
   ],
   "source": [
    "submission_df = summ_test_df.copy()\n",
    "submission_df['content'] = content_avg_preds\n",
    "submission_df['wording'] = wording_avg_preds\n",
    "submission_df = submission_df[['student_id', 'content', 'wording']]\n",
    "submission_df"
   ]
  },
  {
   "cell_type": "code",
   "execution_count": 31,
   "id": "afd3cd21-5857-4bfa-b62a-2fec019ed9ea",
   "metadata": {},
   "outputs": [],
   "source": [
    "submission_df.to_csv(\"submission.csv\", index=False)"
   ]
  }
 ],
 "metadata": {
  "kernelspec": {
   "display_name": "Python 3 (ipykernel)",
   "language": "python",
   "name": "python3"
  },
  "language_info": {
   "codemirror_mode": {
    "name": "ipython",
    "version": 3
   },
   "file_extension": ".py",
   "mimetype": "text/x-python",
   "name": "python",
   "nbconvert_exporter": "python",
   "pygments_lexer": "ipython3",
   "version": "3.8.10"
  }
 },
 "nbformat": 4,
 "nbformat_minor": 5
}
